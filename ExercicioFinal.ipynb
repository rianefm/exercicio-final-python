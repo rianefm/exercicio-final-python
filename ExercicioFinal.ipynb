{
  "nbformat": 4,
  "nbformat_minor": 0,
  "metadata": {
    "colab": {
      "provenance": [],
      "authorship_tag": "ABX9TyNvvzfrgcvVnZwHvYZW4VOJ",
      "include_colab_link": true
    },
    "kernelspec": {
      "name": "python3",
      "display_name": "Python 3"
    },
    "language_info": {
      "name": "python"
    }
  },
  "cells": [
    {
      "cell_type": "markdown",
      "metadata": {
        "id": "view-in-github",
        "colab_type": "text"
      },
      "source": [
        "<a href=\"https://colab.research.google.com/github/rianefm/exercicio-final-python/blob/main/ExercicioFinal.ipynb\" target=\"_parent\"><img src=\"https://colab.research.google.com/assets/colab-badge.svg\" alt=\"Open In Colab\"/></a>"
      ]
    },
    {
      "cell_type": "code",
      "execution_count": 9,
      "metadata": {
        "colab": {
          "base_uri": "https://localhost:8080/"
        },
        "id": "RiudCPTelmgf",
        "outputId": "b4f8b89c-fdd0-4d9c-f1de-91205f6861b9"
      },
      "outputs": [
        {
          "output_type": "stream",
          "name": "stdout",
          "text": [
            "O livro \"O Pequeno Príncipe\" foi emprestado.\n",
            "Dom Casmurro - Disponível ? True\n",
            "Alice no País das Maravilhas - Disponível ? True\n",
            "O Pequeno Príncipe - Disponível ? False\n",
            "Dom Casmurro\n",
            "Alice no País das Maravilhas\n",
            "Média dos anos de publicação: 1903.3333333333333\n"
          ]
        }
      ],
      "source": [
        "import numpy as np\n",
        "\n",
        "#classe livro\n",
        "class Livro:\n",
        "\n",
        "  def __init__(self, titulo, autor):\n",
        "        self.titulo = titulo\n",
        "        self.autor = autor\n",
        "        self.disponivel = True\n",
        "\n",
        "  def emprestar(self):\n",
        "        self.disponivel = False\n",
        "        print(f'O livro \"{self.titulo}\" foi emprestado.')\n",
        "\n",
        "#objetos com os livros de exemplo\n",
        "livro1 = Livro(\"Dom Casmurro\", \"Machado de Assis\")\n",
        "livro2 = Livro(\"Alice no País das Maravilhas\", \"Lewis Carroll\")\n",
        "livro3 = Livro(\"O Pequeno Príncipe\", \"Antoine de Saint-Exupéry\")\n",
        "\n",
        "#lista com os livros\n",
        "biblioteca = []\n",
        "biblioteca.append(livro1)\n",
        "biblioteca.append(livro2)\n",
        "biblioteca.append(livro3)\n",
        "\n",
        "livro3.emprestar()\n",
        "#loop para emprestar um dos livros da lista e imprimir o status\n",
        "for livro in biblioteca:\n",
        "    print(f\"{livro.titulo} - Disponível ? {livro.disponivel}\")\n",
        "\n",
        "\n",
        "arrPages = np.array([150,108,26])\n",
        "\n",
        "# Máscara booleana\n",
        "mascara = arrPages > 100\n",
        "\n",
        "# Exibir os livros com mais de 100 páginas\n",
        "for i in range(len(biblioteca)):\n",
        "    if mascara[i]:\n",
        "        print(biblioteca[i].titulo)\n",
        "\n",
        "arrAno = np.array([1899,1865,1946])\n",
        "\n",
        "#media do anos dos livros\n",
        "def mediaAnos(array):\n",
        "    return np.mean(array)\n",
        "\n",
        "print(f'Média dos anos de publicação: {mediaAnos(arrAno)}')\n",
        "\n",
        "\n"
      ]
    },
    {
      "cell_type": "code",
      "source": [],
      "metadata": {
        "id": "89GHRkC9te0l"
      },
      "execution_count": 7,
      "outputs": []
    }
  ]
}